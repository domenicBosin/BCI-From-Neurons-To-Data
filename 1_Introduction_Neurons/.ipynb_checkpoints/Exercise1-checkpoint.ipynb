{
 "cells": [
  {
   "cell_type": "markdown",
   "metadata": {
    "toc": "true"
   },
   "source": [
    "# Table of Contents\n",
    " <p><div class=\"lev1\"><a href=\"#Exercise-Sheet-1:-Neurons\"><span class=\"toc-item-num\">1&nbsp;&nbsp;</span>Exercise Sheet 1: Neurons</a></div><div class=\"lev2\"><a href=\"#Task-1:-The-logistic-function-(1-point---programming)\"><span class=\"toc-item-num\">1.1&nbsp;&nbsp;</span>Task 1: The logistic function (1 point - programming)</a></div><div class=\"lev2\"><a href=\"#Task-2:-Building-an-artificial-neuron--(3-points---programming)\"><span class=\"toc-item-num\">1.2&nbsp;&nbsp;</span>Task 2: Building an artificial neuron  (3 points - programming)</a></div><div class=\"lev2\"><a href=\"#Task-3:-Use-an-artificial-neuron-(4-points---thinking-and-programming)\"><span class=\"toc-item-num\">1.3&nbsp;&nbsp;</span>Task 3: Use an artificial neuron (4 points - thinking and programming)</a></div><div class=\"lev2\"><a href=\"#Task-4:-The-XOR-function-(100-extra-points---thinking-and-maybe-programming)\"><span class=\"toc-item-num\">1.4&nbsp;&nbsp;</span>Task 4: The XOR function (100 extra points - thinking and maybe programming)</a></div><div class=\"lev2\"><a href=\"#Task-5:-The-current-density-(6-points---analytic-derivation)\"><span class=\"toc-item-num\">1.5&nbsp;&nbsp;</span>Task 5: The current density (6 points - analytic derivation)</a></div><div class=\"lev3\"><a href=\"#Solution:\"><span class=\"toc-item-num\">1.5.1&nbsp;&nbsp;</span>Solution:</a></div><div class=\"lev2\"><a href=\"#Task-6:-Electrical-Field-strength-&amp;-potential-of-a-dipole-(6-points---programming)\"><span class=\"toc-item-num\">1.6&nbsp;&nbsp;</span>Task 6: Electrical Field strength &amp; potential of a dipole (6 points - programming)</a></div>"
   ]
  },
  {
   "cell_type": "markdown",
   "metadata": {},
   "source": [
    "# Exercise Sheet 1: Neurons"
   ]
  },
  {
   "cell_type": "code",
   "execution_count": 1,
   "metadata": {
    "ExecuteTime": {
     "end_time": "2017-04-26T13:09:15.645939Z",
     "start_time": "2017-04-26T13:09:15.087933Z"
    },
    "collapsed": true
   },
   "outputs": [],
   "source": [
    "%matplotlib inline\n",
    "import numpy as np\n",
    "from scipy import constants\n",
    "from matplotlib import pyplot as plt"
   ]
  },
  {
   "cell_type": "markdown",
   "metadata": {},
   "source": [
    "## Task 1: The logistic function (1 point - programming)\n",
    "Write a function \"logistic(h,a=1)\" resembling the logistic function and a second function \"signtrafunc\" the more discrete tranfer function equivalent in form of a function of the sign of the input.\n",
    "\n",
    "For defining the sign-based transfer function the inline definition of functions using the syntax trafunc=lambda x: f(x) might be handy, please write the logistic function, however, as a classical function definition. The *a=1* in the function definition sets the default to *a=1* so the function needs only 1 argument by default."
   ]
  },
  {
   "cell_type": "code",
   "execution_count": 2,
   "metadata": {
    "ExecuteTime": {
     "end_time": "2017-04-26T13:09:16.417839Z",
     "start_time": "2017-04-26T13:09:16.411365Z"
    },
    "collapsed": true
   },
   "outputs": [],
   "source": [
    "def logistic(h,a=1):\n",
    "    return 1/(1+np.exp(-a*h))\n",
    "\n",
    "signtrafunc=lambda x: (np.sign(x) +1 ) / 2"
   ]
  },
  {
   "cell_type": "code",
   "execution_count": 3,
   "metadata": {
    "ExecuteTime": {
     "end_time": "2017-04-26T13:09:17.015802Z",
     "start_time": "2017-04-26T13:09:16.724852Z"
    }
   },
   "outputs": [
    {
     "data": {
      "text/plain": [
       "<matplotlib.text.Text at 0x10d343320>"
      ]
     },
     "execution_count": 3,
     "metadata": {},
     "output_type": "execute_result"
    },
    {
     "data": {
      "image/png": "[encoded data removed]",
      "text/plain": [
       "<matplotlib.figure.Figure at 0x10ad72780>"
      ]
     },
     "metadata": {},
     "output_type": "display_data"
    }
   ],
   "source": [
    "x=np.linspace(-6,6,100)\n",
    "y=logistic(x,2)\n",
    "\n",
    "plt.plot(x,y)\n",
    "plt.ylim((-2,2))\n",
    "plt.title('Logistic function')"
   ]
  },
  {
   "cell_type": "code",
   "execution_count": 4,
   "metadata": {
    "ExecuteTime": {
     "end_time": "2017-04-26T13:09:17.282127Z",
     "start_time": "2017-04-26T13:09:17.018258Z"
    }
   },
   "outputs": [
    {
     "data": {
      "text/plain": [
       "(-2, 2)"
      ]
     },
     "execution_count": 4,
     "metadata": {},
     "output_type": "execute_result"
    },
    {
     "data": {
      "image/png": "[encoded data removed]",
      "text/plain": [
       "<matplotlib.figure.Figure at 0x10d362320>"
      ]
     },
     "metadata": {},
     "output_type": "display_data"
    }
   ],
   "source": [
    "x=np.linspace(-1,1,30)\n",
    "y=signtrafunc(x)\n",
    "\n",
    "\n",
    "\n",
    "plt.plot(x,y, '*')\n",
    "plt.title('Sign transfer function')\n",
    "plt.ylim((-2,2))"
   ]
  },
  {
   "cell_type": "markdown",
   "metadata": {},
   "source": [
    "## Task 2: Building an artificial neuron  (3 points - programming)\n",
    "Define a class \"neuron\" resembling a simple perceptron. See https://docs.python.org/3/tutorial/classes.html for help on classes.\n",
    "\n",
    "It should have the attributes \"neuron.w\" for the weights, \"neuron.b\" for the bias, the method \"neuron.trafunc(self,x)\" for the transfer function and the method \"neuron.out(self,x)\" to calculate the output for input *x*. \n",
    "\n",
    "Build a constructor method \"\\__init\\__(self,...)\", where self refers to the object itself, which assigns the weight vector *w*, the bias *b* and the transfer function \"trafunc\" to the neuron."
   ]
  },
  {
   "cell_type": "code",
   "execution_count": 5,
   "metadata": {
    "ExecuteTime": {
     "end_time": "2017-04-26T13:09:17.291705Z",
     "start_time": "2017-04-26T13:09:17.284786Z"
    },
    "collapsed": true
   },
   "outputs": [],
   "source": [
    "class neuron:\n",
    "\n",
    "    def __init__(self, weights, biases, trafunc=signtrafunc):\n",
    "        self.w = weights\n",
    "        self.b = biases\n",
    "        self.trafunc = trafunc\n",
    "    \n",
    "    def out(self, x):\n",
    "        return self.trafunc(np.dot(self.w, x) - self.b)\n",
    "            "
   ]
  },
  {
   "cell_type": "code",
   "execution_count": 6,
   "metadata": {
    "ExecuteTime": {
     "end_time": "2017-04-26T13:09:17.931928Z",
     "start_time": "2017-04-26T13:09:17.669970Z"
    }
   },
   "outputs": [
    {
     "data": {
      "text/plain": [
       "<matplotlib.text.Text at 0x10d3c80b8>"
      ]
     },
     "execution_count": 6,
     "metadata": {},
     "output_type": "execute_result"
    },
    {
     "data": {
      "image/png": "[encoded data removed]",
      "text/plain": [
       "<matplotlib.figure.Figure at 0x10d499978>"
      ]
     },
     "metadata": {},
     "output_type": "display_data"
    }
   ],
   "source": [
    "myNeuron = neuron(.5,1)\n",
    "\n",
    "x = np.linspace(-6,6,100)\n",
    "\n",
    "\n",
    "plt.plot(x, myNeuron.out(x), '*')\n",
    "plt.ylim((-2, 2))\n",
    "plt.title('Neuron (Perceptron)')\n",
    "plt.xlabel('Input Value to Neuron')\n",
    "plt.ylabel('Output\\n1=fire, 0=not fire')"
   ]
  },
  {
   "cell_type": "markdown",
   "metadata": {},
   "source": [
    "## Task 3: Use an artificial neuron (4 points - thinking and programming)\n",
    "Use instances of the neuron class above to build the equivalents to logical \"or\" and \"and\"-functions and test them for 2-dimensional input vectors *x* resembling all possibilities of combinations ([0,0], [1,0], [0,1], [1,1]).\n",
    "\n",
    "First, use the sign-based transfer function to solve the task and then apply the same weights w and bias b on a neuron with the logistic transfer function.\n",
    "\n",
    "What's the difference?\n",
    "\n",
    "*Hint: if you haven't succeeded with Task 2, you can solve Task 3 analytically and write down the needed weights and results.*"
   ]
  },
  {
   "cell_type": "code",
   "execution_count": 7,
   "metadata": {
    "ExecuteTime": {
     "end_time": "2017-04-26T13:09:17.963025Z",
     "start_time": "2017-04-26T13:09:17.934724Z"
    }
   },
   "outputs": [
    {
     "name": "stdout",
     "output_type": "stream",
     "text": [
      "OR [0 0] --> 0.0\n",
      "OR [1 0] --> 1.0\n",
      "OR [0 1] --> 1.0\n",
      "OR [1 1] --> 1.0\n",
      "\n",
      "\n",
      "AND [0 0] --> 0.0\n",
      "AND [1 0] --> 0.0\n",
      "AND [0 1] --> 0.0\n",
      "AND [1 1] --> 1.0\n"
     ]
    }
   ],
   "source": [
    "# Define neurons\n",
    "OR_Neuron = neuron(np.array([1,1]),.99)\n",
    "AND_Neuron = neuron(np.array([1,1]),1.01)\n",
    "\n",
    "# Define inputs\n",
    "inp = np.array(([0,0], [1,0], [0,1], [1,1]))\n",
    "\n",
    "# Evaluate OR\n",
    "for i in range(4):\n",
    "    outp = OR_Neuron.out(inp[i])\n",
    "    print('OR', inp[i], '-->', (outp))\n",
    "\n",
    "    \n",
    "# Some spacing    \n",
    "print('\\n')    \n",
    "\n",
    "\n",
    "# Evaluate AND    \n",
    "for i in range(4):\n",
    "    outp = AND_Neuron.out(inp[i])\n",
    "    print('AND', inp[i], '-->', (outp))    "
   ]
  },
  {
   "cell_type": "code",
   "execution_count": 8,
   "metadata": {
    "ExecuteTime": {
     "end_time": "2017-04-26T13:09:18.266282Z",
     "start_time": "2017-04-26T13:09:18.235526Z"
    }
   },
   "outputs": [
    {
     "name": "stdout",
     "output_type": "stream",
     "text": [
      "OR [0 0] --> 0.270912077651\n",
      "OR [1 0] --> 0.502499979167\n",
      "OR [0 1] --> 0.502499979167\n",
      "OR [1 1] --> 0.733020149239\n",
      "\n",
      "\n",
      "AND [0 0] --> 0.249739894405\n",
      "AND [1 0] --> 0.475020812521\n",
      "AND [0 1] --> 0.475020812521\n",
      "AND [1 1] --> 0.710949502625\n"
     ]
    }
   ],
   "source": [
    "# Do the same for a neuron with logistic transfer.\n",
    "# Does not work, because the logistic function does not have\n",
    "# a binary output ... logical operators always have a binary output\n",
    "\n",
    "OR_Neuron = neuron(np.array([1,1]),.99, trafunc=logistic)\n",
    "AND_Neuron = neuron(np.array([1,1]),1.1, trafunc=logistic)\n",
    "\n",
    "# Define inputs\n",
    "inp = np.array(([0,0], [1,0], [0,1], [1,1]))\n",
    "\n",
    "# Evaluate OR\n",
    "for i in range(4):\n",
    "    outp = OR_Neuron.out(inp[i])\n",
    "    print('OR', inp[i], '-->', (outp))\n",
    "\n",
    "    \n",
    "# Some spacing    \n",
    "print('\\n')    \n",
    "\n",
    "\n",
    "# Evaluate AND    \n",
    "for i in range(4):\n",
    "    outp = AND_Neuron.out(inp[i])\n",
    "    print('AND', inp[i], '-->', (outp))    \n"
   ]
  },
  {
   "cell_type": "markdown",
   "metadata": {},
   "source": [
    "## Task 4: The XOR function (100 extra points - thinking and maybe programming)\n",
    "Build an XOR function with a neuron of the class you have created.\n",
    "\n"
   ]
  },
  {
   "cell_type": "markdown",
   "metadata": {},
   "source": [
    "XOR: The following outputs are required for the input pairs $(X1,X2)$:\n",
    "* 0,0 --> 0\n",
    "* 0,1 --> 1\n",
    "* 1,0 --> 1\n",
    "* 1,1 --> 0\n",
    "\n",
    "Given an input and our neuron class ...\n",
    "\n",
    "* ... we can set the neuron's weights $w_{X1}$ and $w_{X2}$ to influence the output.\n",
    "\n",
    "* ... we can set the neuron's bias $b$ to influence the output.\n",
    "\n",
    "1) The weights $w_{Xi}$ will have to be set equally, because the inputs contain (0,1) and (1,0). If we were to set $w_{Xi}$ asymmetrically, we would not get the same results for (0,1) and (1,0) ... but that is necessary for XOR.\n",
    "\n",
    "2) Given equal weights, setting the bias to $b=1$, inputs (0,1) and (1,0) will to be 0.5. Setting $b<1$ , inputs (0,1) and (1,0) will to be 1. Setting $b>1$, inputs (0,1) and (1,0) will to be 0.\n",
    "\n",
    "3) According to (2) and (3), having equal weights and a bias of $b<1$ will result in our inputs (0,1) and (1,0) being 1. However, with these settings, input (1,1) will also be 1, which is wrong for XOR.\n",
    "\n",
    "4) There is no combination of weights and biases for our neuron class to solve the XOR function.\n"
   ]
  },
  {
   "cell_type": "markdown",
   "metadata": {},
   "source": [
    "## Task 5: The current density (6 points - analytic derivation)\n",
    "Analytically derive the current density $\\vec{J}=-\\sigma\\nabla\\phi$ of a dipole field at origin step-by-step from the potential equation $\\phi(\\vec{r})=\\frac{1}{4\\pi\\epsilon_0}\\frac{\\vec{p}\\cdot\\vec{r}}{\\left|\\vec{r}\\right|^3}$ in Cartesian coordinates.\n",
    "\n",
    "To this extent you will need to build the gradient $\\nabla=\\left(\n",
    "\\begin{array}{c}\n",
    "\t\\frac{\\delta}{\\delta x}\\\\\n",
    "\t\\frac{\\delta}{\\delta y}\\\\\n",
    "\t\\frac{\\delta}{\\delta z}\n",
    "\\end{array}\n",
    "\\right)$!\n",
    "\n",
    "You can take the dipolar moment $\\vec{p}$ to be a constant vector $\\vec{p}=\\left(\n",
    "\\begin{array}{c}\n",
    "\tp_x\\\\\n",
    "\tp_y\\\\\n",
    "\tp_z\n",
    "\\end{array}\n",
    "\\right)$. The vector $\\vec{r}=\\left(\n",
    "\\begin{array}{c}\n",
    "\tx\\\\\n",
    "\ty\\\\\n",
    "\tz\n",
    "\\end{array}\n",
    "\\right)$ is the coordinates in cartesian coordinates and  the norm is the euclidean norm $\\left|\\vec{r}\\right|=\\sqrt{x^2+y^2+z^2}$ and $\\vec{e}_r=\\frac{\\vec{r}}{\\left|\\vec{r}\\right|}$\n",
    "\n",
    "*Hint: You can hand in the solution in your format of choice: Write direclty below (Markdown takes latex within $$, jsut double-click on the cell below), Pdf from Latex or Word, scan or photo of a hand-written derivation, etc....*"
   ]
  },
  {
   "cell_type": "code",
   "execution_count": null,
   "metadata": {
    "collapsed": true
   },
   "outputs": [],
   "source": []
  },
  {
   "cell_type": "code",
   "execution_count": null,
   "metadata": {
    "collapsed": true
   },
   "outputs": [],
   "source": []
  },
  {
   "cell_type": "markdown",
   "metadata": {},
   "source": [
    "### Solution:\n",
    "$\\vec{J}=-\\sigma \\nabla \\phi=$"
   ]
  },
  {
   "cell_type": "markdown",
   "metadata": {},
   "source": [
    "## Task 6: Electrical Field strength & potential of a dipole (6 points - programming)\n",
    "Write a python function resembling the electrical field potential $\\phi(\\vec{r},\\vec{r}_0)$ and another one for the field strength $\\vec{E}$ of a dipole in infinite charge free space at point $\\vec{r}_0$ in Cartesian coordinates. The function should take the position of the observed point $\\vec{r}$, the position of the dipole $\\vec{r}_0$ and the dipole moment $\\vec{p}$ as inputs and return the scalar potential. $\\vec{r}_0$ should be set to the origin by default. \n",
    "\n",
    "$\\phi(\\vec{r})=\\frac{1}{4\\pi\\epsilon_0}\\frac{\\vec{p}\\cdot\\left(\\vec{r}-\\vec{r}_0\\right)}{\\left|\\left(\\vec{r}-\\vec{r}_0\\right)\\right|^3}$\n",
    "\n",
    "$\\vec{E}=\\frac{1}{4 \\pi \\epsilon_0 } \\left(3 \\frac{\\left(\\vec{r}-\\vec{r}_0\\right) \\cdot \\vec{p}}{\\left|\\left(\\vec{r}-\\vec{r}_0\\right)\\right|^5} \\cdot \\left(\\vec{r}-\\vec{r}_0\\right)-\\frac{\\vec{p}}{|\\left(\\vec{r}-\\vec{r}_0\\right)|^3}\\right)$\n",
    "\n",
    "Make a plot of the two variables in two dimensions from -10 to 10 for both axes in the x/y-plane for a dipole at origin with dipole moment $\\vec{p}=[1,0]$.\n",
    "Plot the potential as decibel values using the matlpotlib function plt.contour/contourf and the field strength using the function plt.steamplot. Draw both plots into the same figure (plt.hold('on')). The arguments to the plot function call for $\\vec{E}$- and $\\phi$- values need to thave the shape corresponding to the XX and YY variables from np.meshgrid (see below).\n",
    "\n",
    "*Hint: You can find $\\epsilon_0$ in the scipy constants...*\n",
    "\n"
   ]
  },
  {
   "cell_type": "code",
   "execution_count": 82,
   "metadata": {
    "ExecuteTime": {
     "end_time": "2017-04-26T13:47:42.118984Z",
     "start_time": "2017-04-26T13:47:42.111013Z"
    },
    "collapsed": true
   },
   "outputs": [],
   "source": [
    "def elecFieldPot(p, rX, rY, r_0=np.array([0,0])):\n",
    "    \"\"\"\n",
    "    IN\n",
    "    - p: dipole moment, np.array with dim 2x1\n",
    "    - rX: X position of observed point\n",
    "    - rY: Y position of observed point\n",
    "    - r_0: position of the dipole, np.array with dim 2x1\n",
    "    \n",
    "    OUT\n",
    "    - Scalar electrical field potential\n",
    "    \"\"\"\n",
    "    part1 = 1/(4*np.pi*constants.epsilon_0)\n",
    "    part2_nom = np.dot(p, (np.array([rX,rY])-r_0))\n",
    "    part2_denom = np.linalg.norm(r) ** 3\n",
    "    \n",
    "    return part1 * (part2_nom/part2_denom)"
   ]
  },
  {
   "cell_type": "code",
   "execution_count": 95,
   "metadata": {
    "ExecuteTime": {
     "end_time": "2017-04-26T13:48:57.570137Z",
     "start_time": "2017-04-26T13:48:57.564371Z"
    }
   },
   "outputs": [],
   "source": [
    "x=np.arange(-10,10,0.1)\n",
    "y=np.arange(-10,10,0.1)\n",
    "r_0=[0,0]\n",
    "\n",
    "XX,YY=np.meshgrid(x,y)\n"
   ]
  },
  {
   "cell_type": "code",
   "execution_count": 117,
   "metadata": {
    "ExecuteTime": {
     "end_time": "2017-04-26T14:00:06.790602Z",
     "start_time": "2017-04-26T14:00:06.782866Z"
    },
    "collapsed": true
   },
   "outputs": [],
   "source": [
    "for i in range(len(XX)):\n",
    "    pass"
   ]
  },
  {
   "cell_type": "code",
   "execution_count": 115,
   "metadata": {
    "ExecuteTime": {
     "end_time": "2017-04-26T13:56:41.366879Z",
     "start_time": "2017-04-26T13:56:40.704259Z"
    }
   },
   "outputs": [
    {
     "data": {
      "text/plain": [
       "<matplotlib.contour.QuadContourSet at 0x10e6147b8>"
      ]
     },
     "execution_count": 115,
     "metadata": {},
     "output_type": "execute_result"
    },
    {
     "data": {
      "image/png": "[encoded data removed]",
      "text/plain": [
       "<matplotlib.figure.Figure at 0x10d7814e0>"
      ]
     },
     "metadata": {},
     "output_type": "display_data"
    }
   ],
   "source": [
    "plt.contourf(XX,YY,YY*XX)"
   ]
  }
 ],
 "metadata": {
  "anaconda-cloud": {},
  "kernelspec": {
   "display_name": "Python [default]",
   "language": "python",
   "name": "python3"
  },
  "language_info": {
   "codemirror_mode": {
    "name": "ipython",
    "version": 3
   },
   "file_extension": ".py",
   "mimetype": "text/x-python",
   "name": "python",
   "nbconvert_exporter": "python",
   "pygments_lexer": "ipython3",
   "version": "3.5.2"
  },
  "toc": {
   "toc_cell": true,
   "toc_number_sections": true,
   "toc_threshold": 6,
   "toc_window_display": false
  }
 },
 "nbformat": 4,
 "nbformat_minor": 1
}
